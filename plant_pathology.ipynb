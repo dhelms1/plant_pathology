{
  "nbformat": 4,
  "nbformat_minor": 0,
  "metadata": {
    "colab": {
      "name": "plant_pathology.ipynb",
      "provenance": [],
      "collapsed_sections": [],
      "toc_visible": true,
      "mount_file_id": "14FneED67rdB-Dw3byhI0SQZs_oq78g4z",
      "authorship_tag": "ABX9TyMfnMIOUna36LuaOnGXl/pa",
      "include_colab_link": true
    },
    "kernelspec": {
      "name": "python3",
      "display_name": "Python 3"
    },
    "accelerator": "GPU"
  },
  "cells": [
    {
      "cell_type": "markdown",
      "metadata": {
        "id": "view-in-github",
        "colab_type": "text"
      },
      "source": [
        "<a href=\"https://colab.research.google.com/github/dhelms1/plant_pathology/blob/main/plant_pathology.ipynb\" target=\"_parent\"><img src=\"https://colab.research.google.com/assets/colab-badge.svg\" alt=\"Open In Colab\"/></a>"
      ]
    },
    {
      "cell_type": "markdown",
      "metadata": {
        "id": "zlrZyxk6lzXx"
      },
      "source": [
        "# **Plant Pathology Project**\r\n",
        "---\r\n",
        "Misdiagnosis of the many diseases impacting agricultural crops can lead to misuse of chemicals leading to the emergence of resistant pathogen strains, increased input costs, and more outbreaks with significant economic loss and environmental impacts. Current disease diagnosis based on human scouting is time-consuming and expensive, and although computer-vision based models have the promise to increase efficiency, the great variance in symptoms due to age of infected tissues, genetic variations, and light conditions within trees decreases the accuracy of detection.\r\n",
        "\r\n",
        "In this project, we will use images of apple leaves to train a Neural Network that can correctly identify and diagnose infected/healthy leaves for one another (the disease types are listed below). The model will be evaulated based on the average of the individual AUCs of each predicted column. We will aim for above a 95% accuracy, incoporating transfer learning using the framework PyTorch.\r\n",
        "\r\n",
        "### **Project Outcome Goals**\r\n",
        "---\r\n",
        "1) Accurately classify a given image from testing dataset into different diseased category or a healthy leaf.  \r\n",
        "2) Accurately distinguish between many diseases, sometimes more than one on a single leaf.  \r\n",
        "3) Deal with rare classes and novel symptoms.  \r\n",
        "4) Address depth perception—angle, light, shade, physiological age of the leaf.  \r\n",
        "5) Incorporate expert knowledge in identification, quantification, and guiding computer vision to search for relevant features during learning.\r\n",
        "\r\n",
        "### **Disease Types (Labels)**\r\n",
        "---\r\n",
        "- `healthy`: no diseases present\r\n",
        "- `multiple_diseases`: combination of multiple disease\r\n",
        "- `rust`: apple rust is present on the leaf\r\n",
        "- `scab`: apple scab is present on the leaf"
      ]
    },
    {
      "cell_type": "markdown",
      "metadata": {
        "id": "hGmX5qmLqaix"
      },
      "source": [
        "## **Import Modules**\r\n",
        "We will want to begin by importing the modules necessary to run the project. Along with this, we will want to setup the device to be used for training during the model. If 'cuda' is printed, we are using a GPU. Otherwise, training will be done on the CPU (at a slower rate).\r\n",
        "\r\n",
        "*Note that if running this outside of Google Colab on a personal machine, the GPU must be Nvidia in order to use CUDA, otherwise CPU will be selected.*"
      ]
    },
    {
      "cell_type": "code",
      "metadata": {
        "id": "zEWR1EUxEfDe"
      },
      "source": [
        "import numpy as np\r\n",
        "import pandas as pd\r\n",
        "import os\r\n",
        "from pathlib import Path\r\n",
        "\r\n",
        "from sklearn.model_selection import train_test_split\r\n",
        "import matplotlib.pyplot as plt\r\n",
        "import seaborn as sns\r\n",
        "import torch\r\n",
        "from torchvision import datasets, transforms\r\n",
        "from torch import nn, optim\r\n",
        "import torch.nn.functional as F\r\n",
        "\r\n",
        "plt.style.use('seaborn-dark')\r\n",
        "plt.rcParams['font.size'] = 12\r\n",
        "palette = sns.color_palette('Paired', 10)"
      ],
      "execution_count": 2,
      "outputs": []
    },
    {
      "cell_type": "code",
      "metadata": {
        "colab": {
          "base_uri": "https://localhost:8080/"
        },
        "id": "lmp19j5Rpwna",
        "outputId": "f8baef0a-783b-492a-c512-f1f7ac45125b"
      },
      "source": [
        "device = torch.device('cuda' if torch.cuda.is_available() else 'cpu')\r\n",
        "print(device)"
      ],
      "execution_count": 3,
      "outputs": [
        {
          "output_type": "stream",
          "text": [
            "cuda\n"
          ],
          "name": "stdout"
        }
      ]
    },
    {
      "cell_type": "markdown",
      "metadata": {
        "id": "velPGOFlr62_"
      },
      "source": [
        "## **Format Images Directories**\r\n",
        "\r\n",
        "The dataset from [Kaggle](https://www.kaggle.com/c/plant-pathology-2020-fgvc7/data) comes in one directory, with training and testing images mixed together. We will take the following steps in order to get them in the correct format to be read into the [ImageFolder](https://pytorch.org/docs/stable/torchvision/datasets.html#imagefolder) method:  \r\n",
        "\r\n",
        "- Read in the labels for the train and test sets.  \r\n",
        "- Create directories for the train and test sets.\r\n",
        "- Get image names for each disease type and save to seperate variables.\r\n",
        "- Create new subdirectories for each disease label (label to disease names saved as dictionary for later use).\r\n",
        "- Move the train/test image to the correct directories within the image folder.\r\n",
        "- Create a validation set and move images from train to validation directory.\r\n",
        "\r\n",
        "*Note: you must mount Google Drive in order to read in images from directories.*"
      ]
    },
    {
      "cell_type": "code",
      "metadata": {
        "id": "OBjR81EgqYV1"
      },
      "source": [
        "# Read in csv's containing the image_id and the disease features\r\n",
        "test_labels = pd.read_csv('drive/My Drive/Colab Notebooks/Plant Pathology/test.csv') # df of image numbers\r\n",
        "train_labels = pd.read_csv('drive/My Drive/Colab Notebooks/Plant Pathology/train.csv')"
      ],
      "execution_count": 4,
      "outputs": []
    },
    {
      "cell_type": "code",
      "metadata": {
        "colab": {
          "base_uri": "https://localhost:8080/",
          "height": 515
        },
        "id": "SwYcVHTkakkk",
        "outputId": "3e8b4c79-4276-4a1a-a07d-03cbc2564fc7"
      },
      "source": [
        "class_count = train_labels.drop('image_id', axis=1).sum()\r\n",
        "plt.figure(figsize=(12,8))\r\n",
        "plt.xticks(np.arange(len(class_count)), class_count.index)\r\n",
        "plt.bar(class_count.index, class_count.values)\r\n",
        "plt.title('Number of Observations per Disease', fontsize=18)\r\n",
        "plt.xlabel('Disease Type')\r\n",
        "plt.ylabel('Observation Count')\r\n",
        "plt.show();"
      ],
      "execution_count": 7,
      "outputs": [
        {
          "output_type": "display_data",
          "data": {
            "image/png": "[encoded data removed]",
            "text/plain": [
              "<Figure size 864x576 with 1 Axes>"
            ]
          },
          "metadata": {
            "tags": []
          }
        }
      ]
    },
    {
      "cell_type": "code",
      "metadata": {
        "id": "NmDLXsXxrR_s"
      },
      "source": [
        "# Create directories for the Train and Test images\r\n",
        "os.mkdir('drive/My Drive/Colab Notebooks/Plant Pathology/images/Train')\r\n",
        "os.mkdir('drive/My Drive/Colab Notebooks/Plant Pathology/images/Test')"
      ],
      "execution_count": null,
      "outputs": []
    },
    {
      "cell_type": "code",
      "metadata": {
        "id": "Ntj1AtPIrS69"
      },
      "source": [
        "# Get image names for each disease type\r\n",
        "healthy = train_labels.image_id[train_labels.healthy == 1].values\r\n",
        "multi = train_labels.image_id[train_labels.multiple_diseases == 1].values\r\n",
        "rust = train_labels.image_id[train_labels.rust == 1].values\r\n",
        "scab = train_labels.image_id[train_labels.scab == 1].values"
      ],
      "execution_count": 8,
      "outputs": []
    },
    {
      "cell_type": "code",
      "metadata": {
        "id": "uz5ZyTv3rS4V"
      },
      "source": [
        "# Create dictionary to map from created folder labels to original category names\r\n",
        "cat_to_name = {'1': 'healthy',\r\n",
        "               '2': 'multiple_diseases',\r\n",
        "               '3': 'rust',\r\n",
        "               '4': 'scab'}          "
      ],
      "execution_count": 9,
      "outputs": []
    },
    {
      "cell_type": "code",
      "metadata": {
        "id": "mGNFlpzTrS11"
      },
      "source": [
        "# Create label directories to move images into\r\n",
        "os.mkdir('drive/My Drive/Colab Notebooks/Plant Pathology/images/Train/1')\r\n",
        "os.mkdir('drive/My Drive/Colab Notebooks/Plant Pathology/images/Train/2')\r\n",
        "os.mkdir('drive/My Drive/Colab Notebooks/Plant Pathology/images/Train/3')\r\n",
        "os.mkdir('drive/My Drive/Colab Notebooks/Plant Pathology/images/Train/4')"
      ],
      "execution_count": null,
      "outputs": []
    },
    {
      "cell_type": "code",
      "metadata": {
        "id": "x43_m-cRrSxi"
      },
      "source": [
        "# Move Training images from current directories to their new subdirectories\r\n",
        "for img in healthy:\r\n",
        "  curr_path = 'drive/My Drive/Colab Notebooks/Plant Pathology/images/' + img + '.jpg'\r\n",
        "  new_path = 'drive/My Drive/Colab Notebooks/Plant Pathology/images/Train/1/' + img + '.jpg'\r\n",
        "  Path(curr_path).rename(new_path)\r\n",
        "\r\n",
        "for img in multi:\r\n",
        "  curr_path = 'drive/My Drive/Colab Notebooks/Plant Pathology/images/' + img + '.jpg'\r\n",
        "  new_path = 'drive/My Drive/Colab Notebooks/Plant Pathology/images/Train/2/' + img + '.jpg'\r\n",
        "  Path(curr_path).rename(new_path)\r\n",
        "\r\n",
        "for img in rust:\r\n",
        "  curr_path = 'drive/My Drive/Colab Notebooks/Plant Pathology/images/' + img + '.jpg'\r\n",
        "  new_path = 'drive/My Drive/Colab Notebooks/Plant Pathology/images/Train/3/' + img + '.jpg'\r\n",
        "  Path(curr_path).rename(new_path)\r\n",
        "\r\n",
        "for img in scab:\r\n",
        "  curr_path = 'drive/My Drive/Colab Notebooks/Plant Pathology/images/' + img + '.jpg'\r\n",
        "  new_path = 'drive/My Drive/Colab Notebooks/Plant Pathology/images/Train/4/' + img + '.jpg'\r\n",
        "  Path(curr_path).rename(new_path)"
      ],
      "execution_count": null,
      "outputs": []
    },
    {
      "cell_type": "code",
      "metadata": {
        "id": "qjEpEAucrSpi"
      },
      "source": [
        "# Move Testing images from current directory to new folder\r\n",
        "for img in test_labels.image_id.values:\r\n",
        "  curr_path = 'drive/My Drive/Colab Notebooks/Plant Pathology/images/' + img + '.jpg'\r\n",
        "  new_path = 'drive/My Drive/Colab Notebooks/Plant Pathology/images/Test/' + img + '.jpg'\r\n",
        "  Path(curr_path).rename(new_path)"
      ],
      "execution_count": null,
      "outputs": []
    },
    {
      "cell_type": "markdown",
      "metadata": {
        "id": "zJUkZxKVAVXW"
      },
      "source": [
        "#### Validation Set\r\n",
        "\r\n",
        "We will also want to create a validation set for our model. Note that this implementation might be more complicated than it should be, but since the data is already in the training folder and we don't want to augment the validation set, we need to manually move a portion of the images to the validation folder. We will use an 80/20 split (except less for multi_disease since there is a large class imbalance). There is likely a better way to implement this with PyTorch, but for now we will use the manual method and come back later if we find a better solution."
      ]
    },
    {
      "cell_type": "code",
      "metadata": {
        "id": "RcwZF0KO_nOX"
      },
      "source": [
        "# Select first 20% of images from each label (excluding multi_disease)\r\n",
        "healthy_val = healthy[:int(len(healthy)*.2)]\r\n",
        "multi_val = multi[:int(len(multi)*.15)]\r\n",
        "rust_val = rust[:int(len(rust)*.2)]\r\n",
        "scab_val = scab[:int(len(scab)*.2)]"
      ],
      "execution_count": 20,
      "outputs": []
    },
    {
      "cell_type": "code",
      "metadata": {
        "id": "ILLK9M37_T4O"
      },
      "source": [
        "# Create validation directory and label subdirectories\r\n",
        "os.mkdir('drive/My Drive/Colab Notebooks/Plant Pathology/images/Valid')\r\n",
        "os.mkdir('drive/My Drive/Colab Notebooks/Plant Pathology/images/Valid/1')\r\n",
        "os.mkdir('drive/My Drive/Colab Notebooks/Plant Pathology/images/Valid/2')\r\n",
        "os.mkdir('drive/My Drive/Colab Notebooks/Plant Pathology/images/Valid/3')\r\n",
        "os.mkdir('drive/My Drive/Colab Notebooks/Plant Pathology/images/Valid/4')"
      ],
      "execution_count": 21,
      "outputs": []
    },
    {
      "cell_type": "code",
      "metadata": {
        "id": "p9XoxCtuBenD"
      },
      "source": [
        "# Move training image subset to validation subdirectories\r\n",
        "for img in healthy_val:\r\n",
        "  curr_path = 'drive/My Drive/Colab Notebooks/Plant Pathology/images/Train/1/' + img + '.jpg'\r\n",
        "  new_path = 'drive/My Drive/Colab Notebooks/Plant Pathology/images/Valid/1/' + img + '.jpg'\r\n",
        "  Path(curr_path).rename(new_path)\r\n",
        "\r\n",
        "for img in multi_val:\r\n",
        "  curr_path = 'drive/My Drive/Colab Notebooks/Plant Pathology/images/Train/2/' + img + '.jpg'\r\n",
        "  new_path = 'drive/My Drive/Colab Notebooks/Plant Pathology/images/Valid/2/' + img + '.jpg'\r\n",
        "  Path(curr_path).rename(new_path)\r\n",
        "\r\n",
        "for img in rust_val:\r\n",
        "  curr_path = 'drive/My Drive/Colab Notebooks/Plant Pathology/images/Train/3/' + img + '.jpg'\r\n",
        "  new_path = 'drive/My Drive/Colab Notebooks/Plant Pathology/images/Valid/3/' + img + '.jpg'\r\n",
        "  Path(curr_path).rename(new_path)\r\n",
        "\r\n",
        "for img in scab_val:\r\n",
        "  curr_path = 'drive/My Drive/Colab Notebooks/Plant Pathology/images/Train/4/' + img + '.jpg'\r\n",
        "  new_path = 'drive/My Drive/Colab Notebooks/Plant Pathology/images/Valid/4/' + img + '.jpg'\r\n",
        "  Path(curr_path).rename(new_path)"
      ],
      "execution_count": 22,
      "outputs": []
    },
    {
      "cell_type": "code",
      "metadata": {
        "colab": {
          "base_uri": "https://localhost:8080/"
        },
        "id": "cvcLu-DVB-pO",
        "outputId": "ab6f74c3-a7a6-497e-e8d2-c1859d9261a4"
      },
      "source": [
        "val_size = len(healthy_val)+len(multi_val)+len(rust_val)+len(scab_val)\r\n",
        "print(f'Validation Set Size: {val_size}')\r\n",
        "print(f'Validation Set Ratio: {round((val_size/len(train_labels))*100,2)}%')"
      ],
      "execution_count": 29,
      "outputs": [
        {
          "output_type": "stream",
          "text": [
            "Validation Set Size: 358\n",
            "Validation Set Ratio: 19.66%\n"
          ],
          "name": "stdout"
        }
      ]
    },
    {
      "cell_type": "markdown",
      "metadata": {
        "id": "Lfhn1eB5ek7p"
      },
      "source": [
        "## **Read in Images**\r\n",
        "\r\n",
        "Now that we have the images in the correct directory format, we want to read the images in using the *ImageFolder* function discussed above. We will want to perform augmentation on the training sets but not on the validation set. \r\n",
        "\r\n",
        "Note that we will have to read in the test images in a different way, since *ImageFolder* expects subfolders with labels, but the test images are unlabeled.\r\n"
      ]
    },
    {
      "cell_type": "code",
      "metadata": {
        "id": "xkpMR8NtrSnO"
      },
      "source": [
        "data_dir = 'drive/My Drive/Colab Notebooks/Plant Pathology/images/'"
      ],
      "execution_count": 32,
      "outputs": []
    },
    {
      "cell_type": "code",
      "metadata": {
        "id": "JDMjanBPrRyP"
      },
      "source": [
        "train_transforms = transforms.Compose([transforms.RandomRotation(30),\r\n",
        "                                       transforms.RandomResizedCrop(224),\r\n",
        "                                       transforms.RandomHorizontalFlip(),\r\n",
        "                                       transforms.RandomVerticalFlip(),\r\n",
        "                                       transforms.ColorJitter(),\r\n",
        "                                       transforms.ToTensor(),\r\n",
        "                                       transforms.Normalize([0.485 , 0.456 , 0.406],\r\n",
        "                                                            [0.229 , 0.224 , 0.225])])\r\n",
        "\r\n",
        "val_transforms = transforms.Compose([transforms.Resize(255),\r\n",
        "                                     transforms.CenterCrop(224),\r\n",
        "                                     transforms.ToTensor(),\r\n",
        "                                     transforms.Normalize([0.485, 0.456, 0.406],\r\n",
        "                                                          [0.229, 0.224, 0.225])])\r\n",
        "\r\n",
        "train_data = datasets.ImageFolder(data_dir + 'Train', transform=train_transforms)\r\n",
        "valid_data = datasets.ImageFolder(data_dir + 'Valid', transform=val_transforms)\r\n",
        "\r\n",
        "trainloader = torch.utils.data.DataLoader(train_data, batch_size=32, shuffle=True)\r\n",
        "validloader = torch.utils.data.DataLoader(valid_data, batch_size=32)"
      ],
      "execution_count": 36,
      "outputs": []
    },
    {
      "cell_type": "code",
      "metadata": {
        "id": "LXqE42KFfShD"
      },
      "source": [
        ""
      ],
      "execution_count": null,
      "outputs": []
    },
    {
      "cell_type": "code",
      "metadata": {
        "id": "FNE0QVghfSeZ"
      },
      "source": [
        ""
      ],
      "execution_count": null,
      "outputs": []
    },
    {
      "cell_type": "code",
      "metadata": {
        "id": "wlUNG7x1fSb-"
      },
      "source": [
        ""
      ],
      "execution_count": null,
      "outputs": []
    },
    {
      "cell_type": "markdown",
      "metadata": {
        "id": "S160GeITHH5U"
      },
      "source": [
        "## **Modeling**\r\n",
        "\r\n",
        "We now want to implement transfering learning in order to predict on the images. "
      ]
    },
    {
      "cell_type": "code",
      "metadata": {
        "id": "UywOgKUgfSY7"
      },
      "source": [
        ""
      ],
      "execution_count": null,
      "outputs": []
    },
    {
      "cell_type": "code",
      "metadata": {
        "id": "nPkNtDUQfSWi"
      },
      "source": [
        ""
      ],
      "execution_count": null,
      "outputs": []
    },
    {
      "cell_type": "code",
      "metadata": {
        "id": "uyzaTBDefST1"
      },
      "source": [
        ""
      ],
      "execution_count": null,
      "outputs": []
    },
    {
      "cell_type": "code",
      "metadata": {
        "id": "lCUh31U9fSRM"
      },
      "source": [
        ""
      ],
      "execution_count": null,
      "outputs": []
    },
    {
      "cell_type": "code",
      "metadata": {
        "id": "cFC0JvsHfSOc"
      },
      "source": [
        ""
      ],
      "execution_count": null,
      "outputs": []
    },
    {
      "cell_type": "code",
      "metadata": {
        "id": "hcjbAXimfSLx"
      },
      "source": [
        ""
      ],
      "execution_count": null,
      "outputs": []
    },
    {
      "cell_type": "code",
      "metadata": {
        "id": "N7a_MHhJfSJJ"
      },
      "source": [
        ""
      ],
      "execution_count": null,
      "outputs": []
    },
    {
      "cell_type": "code",
      "metadata": {
        "id": "QB3iZI9nfSFz"
      },
      "source": [
        ""
      ],
      "execution_count": null,
      "outputs": []
    }
  ]
}