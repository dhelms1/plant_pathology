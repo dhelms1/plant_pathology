{
  "nbformat": 4,
  "nbformat_minor": 0,
  "metadata": {
    "colab": {
      "name": "plant_pathology.ipynb",
      "provenance": [],
      "collapsed_sections": [],
      "toc_visible": true,
      "mount_file_id": "14FneED67rdB-Dw3byhI0SQZs_oq78g4z",
      "authorship_tag": "ABX9TyOjkUutHHYg0pc8KQRnYzk4",
      "include_colab_link": true
    },
    "kernelspec": {
      "name": "python3",
      "display_name": "Python 3"
    },
    "accelerator": "GPU"
  },
  "cells": [
    {
      "cell_type": "markdown",
      "metadata": {
        "id": "view-in-github",
        "colab_type": "text"
      },
      "source": [
        "<a href=\"https://colab.research.google.com/github/dhelms1/plant_pathology/blob/main/plant_pathology.ipynb\" target=\"_parent\"><img src=\"https://colab.research.google.com/assets/colab-badge.svg\" alt=\"Open In Colab\"/></a>"
      ]
    },
    {
      "cell_type": "markdown",
      "metadata": {
        "id": "zlrZyxk6lzXx"
      },
      "source": [
        "# **Plant Pathology Project**\r\n",
        "---\r\n",
        "Misdiagnosis of the many diseases impacting agricultural crops can lead to misuse of chemicals leading to the emergence of resistant pathogen strains, increased input costs, and more outbreaks with significant economic loss and environmental impacts. Current disease diagnosis based on human scouting is time-consuming and expensive, and although computer-vision based models have the promise to increase efficiency, the great variance in symptoms due to age of infected tissues, genetic variations, and light conditions within trees decreases the accuracy of detection.\r\n",
        "\r\n",
        "In this project, we will use images of apple leaves to train a Neural Network that can correctly identify and diagnose infected/healthy leaves for one another (the disease types are listed below). The model will be evaulated based on the average of the individual AUCs of each predicted column. We will aim for above a 95% accuracy, incoporating transfer learning using the framework PyTorch.\r\n",
        "\r\n",
        "### **Project Outcome Goals**\r\n",
        "---\r\n",
        "1) Accurately classify a given image from testing dataset into different diseased category or a healthy leaf.  \r\n",
        "2) Accurately distinguish between many diseases, sometimes more than one on a single leaf.  \r\n",
        "3) Deal with rare classes and novel symptoms.  \r\n",
        "4) Address depth perception—angle, light, shade, physiological age of the leaf.  \r\n",
        "5) Incorporate expert knowledge in identification, quantification, and guiding computer vision to search for relevant features during learning.\r\n",
        "\r\n",
        "### **Disease Types (Labels)**\r\n",
        "---\r\n",
        "- combinations: combination of multiple disease\r\n",
        "- healthy: no diseases present\r\n",
        "- rust: apple rust is present on the leaf\r\n",
        "- scab: apple scab is present on the leaf"
      ]
    },
    {
      "cell_type": "markdown",
      "metadata": {
        "id": "hGmX5qmLqaix"
      },
      "source": [
        "## **Import Modules**\r\n",
        "We will want to begin by importing the modules necessary to run the project. Along with this, we will want to setup the device to be used for training during the model. If 'cuda' is printed, we are using a GPU. Otherwise, training will be done on the CPU (at a slower rate).\r\n",
        "\r\n",
        "*Note that if running this outside of Google Colab on a personal machine, the GPU must be Nvidia in order to use CUDA, otherwise CPU will be selected.*"
      ]
    },
    {
      "cell_type": "code",
      "metadata": {
        "id": "zEWR1EUxEfDe"
      },
      "source": [
        "import numpy as np\r\n",
        "import pandas as pd\r\n",
        "import os\r\n",
        "from pathlib import Path\r\n",
        "\r\n",
        "from sklearn.model_selection import train_test_split\r\n",
        "import matplotlib.pyplot as plt\r\n",
        "import seaborn as sns\r\n",
        "import torch\r\n",
        "from torchvision import datasets, transforms\r\n",
        "from torch import nn, optim\r\n",
        "import torch.nn.functional as F\r\n",
        "\r\n",
        "plt.style.use('seaborn-dark')\r\n",
        "plt.rcParams['font.size'] = 12\r\n",
        "palette = sns.color_palette('Paired', 10)"
      ],
      "execution_count": 39,
      "outputs": []
    },
    {
      "cell_type": "code",
      "metadata": {
        "colab": {
          "base_uri": "https://localhost:8080/"
        },
        "id": "lmp19j5Rpwna",
        "outputId": "b7c1bd90-d312-4eb2-eb73-c1228af3c713"
      },
      "source": [
        "device = torch.device('cuda' if torch.cuda.is_available() else 'cpu')\r\n",
        "print(device)"
      ],
      "execution_count": 2,
      "outputs": [
        {
          "output_type": "stream",
          "text": [
            "cuda\n"
          ],
          "name": "stdout"
        }
      ]
    },
    {
      "cell_type": "markdown",
      "metadata": {
        "id": "velPGOFlr62_"
      },
      "source": [
        "## **Format Images Directories**\r\n",
        "\r\n",
        "The dataset from [Kaggle](https://www.kaggle.com/c/plant-pathology-2020-fgvc7/data) comes in one directory, with training and testing images mixed together. We will take the following steps in order to get them in the correct format to be read into the [ImageFolder](https://pytorch.org/docs/stable/torchvision/datasets.html#imagefolder) method:  \r\n",
        "\r\n",
        "1) Create a list of directory paths for both training and testing sets.  \r\n",
        "2) Create new directories for both the train and test images.  \r\n",
        "3) Create label subdirectories within the Train directory.  \r\n",
        "4) Move the images from the current directory to their corresponding subdirectory.\r\n",
        "\r\n",
        "\r\n",
        "*Note: you must mount Google Drive in order to read in images from directories.*"
      ]
    },
    {
      "cell_type": "code",
      "metadata": {
        "id": "OBjR81EgqYV1"
      },
      "source": [
        "# Read in csv's containing the image_id and the disease features\r\n",
        "test_labels = pd.read_csv('drive/My Drive/Colab Notebooks/Plant Pathology/test.csv') # df of image numbers\r\n",
        "train_labels = pd.read_csv('drive/My Drive/Colab Notebooks/Plant Pathology/train.csv')\r\n",
        "\r\n",
        "# Create lists for all image directory paths (1820 in each)\r\n",
        "test_filenames = ['drive/My Drive/Colab Notebooks/Plant Pathology/images/Test_' + str(fnum) + '.jpg' for fnum in range(1821)]\r\n",
        "train_filenames = ['drive/My Drive/Colab Notebooks/Plant Pathology/images/Train_' + str(fnum) + '.jpg' for fnum in range(1821)]"
      ],
      "execution_count": 22,
      "outputs": []
    },
    {
      "cell_type": "code",
      "metadata": {
        "colab": {
          "base_uri": "https://localhost:8080/",
          "height": 514
        },
        "id": "SwYcVHTkakkk",
        "outputId": "c1d9a04a-5134-4db0-b6d5-69cf906f2218"
      },
      "source": [
        "class_count = train_labels.drop('image_id', axis=1).sum()\r\n",
        "plt.figure(figsize=(12,8))\r\n",
        "plt.xticks(np.arange(len(class_count)), class_count.index)\r\n",
        "plt.bar(class_count.index, class_count.values)\r\n",
        "plt.title('Number of Observations per Disease')\r\n",
        "plt.xlabel('Disease Type')\r\n",
        "plt.ylabel('Observation Count')\r\n",
        "plt.show();"
      ],
      "execution_count": 44,
      "outputs": [
        {
          "output_type": "display_data",
          "data": {
            "image/png": "[encoded data removed]",
            "text/plain": [
              "<Figure size 864x576 with 1 Axes>"
            ]
          },
          "metadata": {
            "tags": []
          }
        }
      ]
    },
    {
      "cell_type": "code",
      "metadata": {
        "id": "NmDLXsXxrR_s"
      },
      "source": [
        "# Create directories for the Train and Test images\r\n",
        "os.mkdir('drive/My Drive/Colab Notebooks/Plant Pathology/images/Train')\r\n",
        "os.mkdir('drive/My Drive/Colab Notebooks/Plant Pathology/images/Test')"
      ],
      "execution_count": 3,
      "outputs": []
    },
    {
      "cell_type": "code",
      "metadata": {
        "id": "Ntj1AtPIrS69"
      },
      "source": [
        "# Get image names for each disease type\r\n",
        "healthy = train_labels.image_id[train_labels.healthy == 1].values\r\n",
        "multi = train_labels.image_id[train_labels.multiple_diseases == 1].values\r\n",
        "rust = train_labels.image_id[train_labels.rust == 1].values\r\n",
        "scab = train_labels.image_id[train_labels.scab == 1].values"
      ],
      "execution_count": 20,
      "outputs": []
    },
    {
      "cell_type": "code",
      "metadata": {
        "id": "uz5ZyTv3rS4V"
      },
      "source": [
        "# Create dictionary to map from created folder labels to original category names\r\n",
        "cat_to_name = {'1': 'healthy',\r\n",
        "               '2': 'multiple_diseases',\r\n",
        "               '3': 'rust',\r\n",
        "               '4': 'scab'}          "
      ],
      "execution_count": 13,
      "outputs": []
    },
    {
      "cell_type": "code",
      "metadata": {
        "id": "mGNFlpzTrS11"
      },
      "source": [
        "# Create label directories to move images into\r\n",
        "os.mkdir('drive/My Drive/Colab Notebooks/Plant Pathology/images/Train/1')\r\n",
        "os.mkdir('drive/My Drive/Colab Notebooks/Plant Pathology/images/Train/2')\r\n",
        "os.mkdir('drive/My Drive/Colab Notebooks/Plant Pathology/images/Train/3')\r\n",
        "os.mkdir('drive/My Drive/Colab Notebooks/Plant Pathology/images/Train/4')"
      ],
      "execution_count": 21,
      "outputs": []
    },
    {
      "cell_type": "code",
      "metadata": {
        "id": "x43_m-cRrSxi"
      },
      "source": [
        "# Move Training images from current directories to their new subdirectories\r\n",
        "for img in healthy:\r\n",
        "  curr_path = 'drive/My Drive/Colab Notebooks/Plant Pathology/images/' + img + '.jpg'\r\n",
        "  new_path = 'drive/My Drive/Colab Notebooks/Plant Pathology/images/Train/1/' + img + '.jpg'\r\n",
        "  Path(curr_path).rename(new_path)\r\n",
        "\r\n",
        "for img in multi:\r\n",
        "  curr_path = 'drive/My Drive/Colab Notebooks/Plant Pathology/images/' + img + '.jpg'\r\n",
        "  new_path = 'drive/My Drive/Colab Notebooks/Plant Pathology/images/Train/2/' + img + '.jpg'\r\n",
        "  Path(curr_path).rename(new_path)\r\n",
        "\r\n",
        "for img in rust:\r\n",
        "  curr_path = 'drive/My Drive/Colab Notebooks/Plant Pathology/images/' + img + '.jpg'\r\n",
        "  new_path = 'drive/My Drive/Colab Notebooks/Plant Pathology/images/Train/3/' + img + '.jpg'\r\n",
        "  Path(curr_path).rename(new_path)\r\n",
        "\r\n",
        "for img in scab:\r\n",
        "  curr_path = 'drive/My Drive/Colab Notebooks/Plant Pathology/images/' + img + '.jpg'\r\n",
        "  new_path = 'drive/My Drive/Colab Notebooks/Plant Pathology/images/Train/4/' + img + '.jpg'\r\n",
        "  Path(curr_path).rename(new_path)"
      ],
      "execution_count": 27,
      "outputs": []
    },
    {
      "cell_type": "code",
      "metadata": {
        "id": "qjEpEAucrSpi"
      },
      "source": [
        "# Move Testing images from current directory to new folder\r\n",
        "for img in test_labels.image_id.values:\r\n",
        "  curr_path = 'drive/My Drive/Colab Notebooks/Plant Pathology/images/' + img + '.jpg'\r\n",
        "  new_path = 'drive/My Drive/Colab Notebooks/Plant Pathology/images/Test/' + img + '.jpg'\r\n",
        "  Path(curr_path).rename(new_path)"
      ],
      "execution_count": 36,
      "outputs": []
    },
    {
      "cell_type": "markdown",
      "metadata": {
        "id": "Lfhn1eB5ek7p"
      },
      "source": [
        "## **Read in Images**\r\n",
        "\r\n",
        "Now that we have the images in the correct directory format, we want to read the images in using the *ImageFolder* function discussed above. We will want to perform augmentation on the training sets but not on the validation or test sets. \r\n"
      ]
    },
    {
      "cell_type": "code",
      "metadata": {
        "id": "xkpMR8NtrSnO"
      },
      "source": [
        ""
      ],
      "execution_count": 36,
      "outputs": []
    },
    {
      "cell_type": "code",
      "metadata": {
        "id": "JDMjanBPrRyP"
      },
      "source": [
        ""
      ],
      "execution_count": null,
      "outputs": []
    },
    {
      "cell_type": "code",
      "metadata": {
        "id": "LXqE42KFfShD"
      },
      "source": [
        ""
      ],
      "execution_count": null,
      "outputs": []
    },
    {
      "cell_type": "code",
      "metadata": {
        "id": "FNE0QVghfSeZ"
      },
      "source": [
        ""
      ],
      "execution_count": null,
      "outputs": []
    },
    {
      "cell_type": "code",
      "metadata": {
        "id": "wlUNG7x1fSb-"
      },
      "source": [
        ""
      ],
      "execution_count": null,
      "outputs": []
    },
    {
      "cell_type": "code",
      "metadata": {
        "id": "UywOgKUgfSY7"
      },
      "source": [
        ""
      ],
      "execution_count": null,
      "outputs": []
    },
    {
      "cell_type": "code",
      "metadata": {
        "id": "nPkNtDUQfSWi"
      },
      "source": [
        ""
      ],
      "execution_count": null,
      "outputs": []
    },
    {
      "cell_type": "code",
      "metadata": {
        "id": "uyzaTBDefST1"
      },
      "source": [
        ""
      ],
      "execution_count": null,
      "outputs": []
    },
    {
      "cell_type": "code",
      "metadata": {
        "id": "lCUh31U9fSRM"
      },
      "source": [
        ""
      ],
      "execution_count": null,
      "outputs": []
    },
    {
      "cell_type": "code",
      "metadata": {
        "id": "cFC0JvsHfSOc"
      },
      "source": [
        ""
      ],
      "execution_count": null,
      "outputs": []
    },
    {
      "cell_type": "code",
      "metadata": {
        "id": "hcjbAXimfSLx"
      },
      "source": [
        ""
      ],
      "execution_count": null,
      "outputs": []
    },
    {
      "cell_type": "code",
      "metadata": {
        "id": "N7a_MHhJfSJJ"
      },
      "source": [
        ""
      ],
      "execution_count": null,
      "outputs": []
    },
    {
      "cell_type": "code",
      "metadata": {
        "id": "QB3iZI9nfSFz"
      },
      "source": [
        ""
      ],
      "execution_count": null,
      "outputs": []
    }
  ]
}